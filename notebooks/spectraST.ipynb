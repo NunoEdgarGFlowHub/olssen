{
 "metadata": {
  "name": "",
  "signature": "sha256:9a5f4a942e86cb06ac31ffffc8cc0f4964090adc385d5a820226deb1ee5b721c"
 },
 "nbformat": 3,
 "nbformat_minor": 0,
 "worksheets": [
  {
   "cells": [
    {
     "cell_type": "heading",
     "level": 1,
     "metadata": {},
     "source": [
      "The SpectraST algorithm for spectral search"
     ]
    },
    {
     "cell_type": "markdown",
     "metadata": {},
     "source": [
      "In this notebook we will study how to implement the [SpectraST algorithm](http://tools.proteomecenter.org/wiki/index.php?title=Software:SpectraST) for spectral search."
     ]
    },
    {
     "cell_type": "heading",
     "level": 2,
     "metadata": {},
     "source": [
      "Loading the library"
     ]
    },
    {
     "cell_type": "markdown",
     "metadata": {},
     "source": [
      "We will load our library RDD from a file we previously saved.  "
     ]
    },
    {
     "cell_type": "code",
     "collapsed": false,
     "input": [
      "human_spectrum_library = sc.pickleFile(\"../human/lib.file\").cache()\n",
      "\n",
      "human_spectrum_library.count()"
     ],
     "language": "python",
     "metadata": {},
     "outputs": [
      {
       "metadata": {},
       "output_type": "pyout",
       "prompt_number": 1,
       "text": [
        "80593"
       ]
      }
     ],
     "prompt_number": 1
    },
    {
     "cell_type": "heading",
     "level": 2,
     "metadata": {},
     "source": [
      "Noise reduction"
     ]
    },
    {
     "cell_type": "markdown",
     "metadata": {},
     "source": [
      "Both, the query spectra and the library are processed the same way in SpectraST. First we discard any spectra with less than six peaks or having negligible signal anywhere above the *m/z* value of 500 Th (or 500 x Charge Da).  "
     ]
    },
    {
     "cell_type": "markdown",
     "metadata": {},
     "source": [
      "So first filter by number of peaks.  "
     ]
    },
    {
     "cell_type": "code",
     "collapsed": false,
     "input": [
      "human_spectrum_library_denoise = human_spectrum_library.filter(lambda peptide: len(peptide[1]) >= 6)\n",
      "\n",
      "human_spectrum_library_denoise.count()"
     ],
     "language": "python",
     "metadata": {},
     "outputs": [
      {
       "metadata": {},
       "output_type": "pyout",
       "prompt_number": 2,
       "text": [
        "80593"
       ]
      }
     ],
     "prompt_number": 2
    },
    {
     "cell_type": "markdown",
     "metadata": {},
     "source": [
      "Now we need a function that gets the charge (comes after the peptide sequence in our keys) and filter out peak lists containing peaks beyond the *charge x 500* threshold.  "
     ]
    },
    {
     "cell_type": "code",
     "collapsed": false,
     "input": [
      "def num_peaks_out_of_500th(spectrum):\n",
      "    charge = int(spectrum[0].split(\"/\")[1])\n",
      "    return len([peak for peak in spectrum[1] if peak[0]>(charge*500.0)])\n",
      "\n",
      "human_spectrum_library_denoise = human_spectrum_library_denoise.filter(lambda peptide: num_peaks_out_of_500th(peptide)==0)\n",
      "\n",
      "human_spectrum_library_denoise.count()"
     ],
     "language": "python",
     "metadata": {},
     "outputs": [
      {
       "metadata": {},
       "output_type": "pyout",
       "prompt_number": 3,
       "text": [
        "27228"
       ]
      }
     ],
     "prompt_number": 3
    },
    {
     "cell_type": "markdown",
     "metadata": {},
     "source": [
      "The remaining spectra are noise-reduced by removing all peaks bellow the intensity threshold of 2.0 (arbitrary unit) and rescaled by taking the square root of all raw peak intensities to de-emphasize dominant peaks. Unassigned peaks present in the library spectra are penalized by multiplying their intensities by a factor of 0.2."
     ]
    },
    {
     "cell_type": "code",
     "collapsed": false,
     "input": [
      "def remove_low_intensity_peaks(spectrum):\n",
      "    clean_peaks = [peak for peak in spectrum[1] if len(peak)==2 and peak[1]>=2.0]\n",
      "    return (spectrum[0], clean_peaks)\n",
      "\n",
      "def scale_peaks(spectrum):\n",
      "    scaled_peaks = [(peak[0], sqrt(peak[1])) for peak in spectrum[1]]\n",
      "    return (spectrum[0], scaled_peaks)\n",
      "\n",
      "# Remove low intensity peaks\n",
      "human_spectrum_library_denoise = human_spectrum_library_denoise.map(remove_low_intensity_peaks)\n",
      "# Remove peptides left empty\n",
      "human_spectrum_library_denoise = human_spectrum_library_denoise.filter(lambda peptide: len(peptide[1])>0)\n",
      "# Scale remaining peptide peaks\n",
      "human_spectrum_library_denoise = human_spectrum_library_denoise.map(scale_peaks)\n",
      "\n",
      "\n",
      "human_spectrum_library_denoise.count()"
     ],
     "language": "python",
     "metadata": {},
     "outputs": [
      {
       "metadata": {},
       "output_type": "pyout",
       "prompt_number": 4,
       "text": [
        "27228"
       ]
      }
     ],
     "prompt_number": 4
    },
    {
     "cell_type": "heading",
     "level": 2,
     "metadata": {},
     "source": [
      "Binning "
     ]
    },
    {
     "cell_type": "markdown",
     "metadata": {},
     "source": [
      "Next, all scaled peak intensities are placed into 1 Th-wide bins.  "
     ]
    },
    {
     "cell_type": "code",
     "collapsed": false,
     "input": [
      "def to_bin(min_mz, bins, bin_size, value):\n",
      "    val = value - min_mz\n",
      "    bin_i = int(val / bin_size)\n",
      "    return bin_i + int(min_mz)\n",
      "\n",
      "def bin_spectrum(spectrum):\n",
      "    ## TODO: do we use charge to convert Th to Da?\n",
      "    peak_mzs = [peak[0] for peak in spectrum[1]]\n",
      "    min_mz = min(peak_mzs)\n",
      "    max_mz = max(peak_mzs)\n",
      "    \n",
      "    bins = xrange(int(min_mz), int(max_mz)+1, 1)\n",
      "    # associate peaks with bins\n",
      "    peaks_with_bins_list = [(to_bin(min_mz,bins,1, peak[0]), peak[1]) for peak in spectrum[1]]\n",
      "    peaks_with_bins_dict = {}\n",
      "    for peak in peaks_with_bins_list:\n",
      "        if peak[0] in peaks_with_bins_dict:\n",
      "            peaks_with_bins_dict.get(peak[0]).append(peak[1])\n",
      "        else:\n",
      "            peaks_with_bins_dict[peak[0]] = [peak[1]]\n",
      "        \n",
      "    # merge bins at the same mz value by averaging their peak intensities\n",
      "    peaks_with_bins = [(peak[0], sum(peak[1])/len(peak[1])) for peak in peaks_with_bins_dict.items()]\n",
      "    return (spectrum[0], peaks_with_bins)\n",
      "\n",
      "human_spectrum_library_with_bins = human_spectrum_library_denoise.map(bin_spectrum)\n",
      "\n",
      "a_peptide = human_spectrum_library_with_bins.take(100)[99]\n",
      "a_peptide"
     ],
     "language": "python",
     "metadata": {},
     "outputs": [
      {
       "metadata": {},
       "output_type": "pyout",
       "prompt_number": 5,
       "text": [
        "(u'EIFDSR/2',\n",
        " [(129, 8.5064681272546956),\n",
        "  (262, 112.06422265825967),\n",
        "  (263, 57.15295267962977),\n",
        "  (524, 73.776012361742616),\n",
        "  (525, 32.556566157996457),\n",
        "  (749, 1.9798989873223332),\n",
        "  (667, 16.775279431353745),\n",
        "  (668, 11.534730165894649),\n",
        "  (135, 16.838646026328838),\n",
        "  (175, 32.442718751670611),\n",
        "  (441, 10.361467077590895),\n",
        "  (197, 28.804687118592348),\n",
        "  (653, 3.8974350539810154),\n",
        "  (120, 19.616574624536263),\n",
        "  (377, 70.94124329330576),\n",
        "  (603, 5.7532599454570104),\n",
        "  (225, 48.631985359431916),\n",
        "  (487, 65.877917392704518),\n",
        "  (488, 32.543202055114364),\n",
        "  (489, 11.73328598475295),\n",
        "  (490, 15.387982323878592),\n",
        "  (235, 33.520889009690663),\n",
        "  (748, 3.6221540552549665),\n",
        "  (365, 79.066048339347276),\n",
        "  (243, 21.742125011139091),\n",
        "  (372, 49.079731050607847),\n",
        "  (374, 87.194912192396728),\n",
        "  (504, 64.760636192057277),\n",
        "  (505, 39.872421546728262),\n",
        "  (506, 34.169869768554868),\n",
        "  (637, 12.594046212397348)])"
       ]
      }
     ],
     "prompt_number": 5
    },
    {
     "cell_type": "markdown",
     "metadata": {},
     "source": [
      "To \"spread out\" each peak to enable the matching of the corresponding, but slightly *m/z* shifted peaks, a fraction of the peak intensity is also assigned to the neighboring bins."
     ]
    },
    {
     "cell_type": "code",
     "collapsed": false,
     "input": [
      "# TODO"
     ],
     "language": "python",
     "metadata": {},
     "outputs": [],
     "prompt_number": 6
    },
    {
     "cell_type": "markdown",
     "metadata": {},
     "source": [
      "The bins are then normalised by the magnitude of the spectral vector as follows:"
     ]
    },
    {
     "cell_type": "markdown",
     "metadata": {},
     "source": [
      "\\begin{equation*}\n",
      "\\hat{I_j} = \\frac{I_j}{\\sqrt{\\sum_{j}{I_j^2}}}\n",
      "\\end{equation*}"
     ]
    },
    {
     "cell_type": "markdown",
     "metadata": {},
     "source": [
      "where $I_j$ and $\\hat{I_j}$ are the raw intensity and the normalized intensity of the $j^{th}$ bin, respectively.  "
     ]
    },
    {
     "cell_type": "code",
     "collapsed": false,
     "input": [
      "def normalise_peaks(spectrum):\n",
      "    magnitude = sqrt(sum([peak[1] ** 2 for peak in spectrum[1]]))\n",
      "    norm_peaks = [(peak[0], peak[1]/magnitude) for peak in spectrum[1]]\n",
      "    return (spectrum[0], norm_peaks)\n",
      "\n",
      "human_spectrum_library_with_bins_normalised = human_spectrum_library_with_bins.map(normalise_peaks)\n",
      "\n",
      "a_peptide = human_spectrum_library_with_bins_normalised.take(10)[9]\n",
      "a_peptide"
     ],
     "language": "python",
     "metadata": {},
     "outputs": [
      {
       "metadata": {},
       "output_type": "pyout",
       "prompt_number": 7,
       "text": [
        "(u'DHASMCLAILEEIR/3',\n",
        " [(514, 0.18473541551548453),\n",
        "  (771, 0.086560546972531099),\n",
        "  (900, 0.02362772974876963),\n",
        "  (618, 0.18341417417664946),\n",
        "  (1030, 0.030349649948747139),\n",
        "  (524, 0.40617884035192059),\n",
        "  (399, 0.046867692445361972),\n",
        "  (658, 0.17201051879694812),\n",
        "  (195, 0.019784152281416643),\n",
        "  (916, 0.024444185972722812),\n",
        "  (920, 0.027899772653924463),\n",
        "  (1028, 0.06538666030576562),\n",
        "  (668, 0.4160924810908756),\n",
        "  (669, 0.18750959551534246),\n",
        "  (709, 0.081527311961322929),\n",
        "  (288, 0.06466804990558557),\n",
        "  (545, 0.26113357617875538),\n",
        "  (421, 0.083520776118085449),\n",
        "  (550, 0.28544124198531862),\n",
        "  (936, 0.021783921475853264),\n",
        "  (554, 0.1967869371919167),\n",
        "  (175, 0.056512801078340363),\n",
        "  (186, 0.027648548806490352),\n",
        "  (699, 0.096148626327785577),\n",
        "  (1029, 0.049006251388373369),\n",
        "  (189, 0.021268095800457847),\n",
        "  (416, 0.12729536244745035),\n",
        "  (450, 0.14509983923874611),\n",
        "  (323, 0.10319555850854437),\n",
        "  (197, 0.019135992824808459),\n",
        "  (842, 0.072225410413633603),\n",
        "  (843, 0.048233494876741452),\n",
        "  (844, 0.11221959160555056),\n",
        "  (845, 0.063310262257678329),\n",
        "  (718, 0.30076130802706907),\n",
        "  (463, 0.064491957711864598),\n",
        "  (464, 0.077684579206480656),\n",
        "  (1109, 0.0045384068027927386),\n",
        "  (1113, 0.0052893494610201999),\n",
        "  (915, 0.044382550859785187),\n",
        "  (826, 0.048347420391321519),\n",
        "  (351, 0.1488638264518623),\n",
        "  (352, 0.060470622263393288),\n",
        "  (1123, 0.0052383665896069522),\n",
        "  (1125, 0.0047408546155235029),\n",
        "  (1127, 0.0048803212465719174),\n",
        "  (234, 0.13192794521952955),\n",
        "  (237, 0.059841036797195435),\n",
        "  (1009, 0.040598528866885149),\n",
        "  (659, 0.14918999505863739),\n",
        "  (372, 0.066654903063248769),\n",
        "  (252, 0.17894909073963175),\n",
        "  (253, 0.061654510467367328),\n",
        "  (1023, 0.03091798534755712)])"
       ]
      }
     ],
     "prompt_number": 7
    },
    {
     "cell_type": "heading",
     "level": 2,
     "metadata": {},
     "source": [
      "Spectral dot product"
     ]
    },
    {
     "cell_type": "markdown",
     "metadata": {},
     "source": [
      "A simple spectral dot product function is used to determine spectral similarity. It is calculated as follows:"
     ]
    },
    {
     "cell_type": "markdown",
     "metadata": {},
     "source": [
      "\\begin{equation*}\n",
      "D = \\sum_j{\\hat{I}_{library,j}\\hat{I}_{query,j}}\n",
      "\\end{equation*}"
     ]
    },
    {
     "cell_type": "markdown",
     "metadata": {},
     "source": [
      "In order to implement the previous, a perfect representation is Spark's own [SparseVector](https://spark.apache.org/docs/latest/api/python/pyspark.mllib.html#pyspark.mllib.linalg.SparseVector).  "
     ]
    },
    {
     "cell_type": "code",
     "collapsed": false,
     "input": [
      "from pyspark.mllib.linalg import Vectors\n",
      "\n",
      "def score_and_peptide(peptide, query_peaks_bc):\n",
      "    \n",
      "    # get max vector size based on bins\n",
      "    peptide_mz_bins = [peak[0] for peak in peptide[1]]\n",
      "    query_mz_bins = [peak[0] for peak in query_peaks_bc.value]\n",
      "    max_bin_peptide = max(peptide_mz_bins)+1\n",
      "    max_bin_query = max(query_mz_bins)+1\n",
      "    max_size = max(max_bin_peptide,max_bin_query)\n",
      "    \n",
      "    # Create SparseVector for peptide\n",
      "    peptide_sv = Vectors.sparse(max_size, peptide[1])\n",
      "\n",
      "    # Create a SparseVector the query \n",
      "    query_sv = Vectors.sparse(max_size, query_peaks_bc.value)\n",
      "    \n",
      "    # return peptide and dot product result\n",
      "    return (peptide[0], peptide_sv.dot(query_sv))\n",
      "\n",
      "\n",
      "# we need to broadcast our query peaks to make it available accross the cluster workers\n",
      "query_peaks_bc = sc.broadcast(a_peptide[1])\n",
      "\n",
      "# then we can perform the dot product\n",
      "human_spectrum_library_vectors = \\\n",
      "    human_spectrum_library_with_bins_normalised.map(lambda peptide: score_and_peptide(peptide, query_peaks_bc))"
     ],
     "language": "python",
     "metadata": {},
     "outputs": [],
     "prompt_number": 8
    },
    {
     "cell_type": "markdown",
     "metadata": {},
     "source": [
      "We can now sort and get the first.  "
     ]
    },
    {
     "cell_type": "code",
     "collapsed": false,
     "input": [
      "from time import time\n",
      "\n",
      "t0 = time()\n",
      "best_peptide_matches = human_spectrum_library_vectors.takeOrdered(10, lambda pep_score: -pep_score[1])\n",
      "tt = time() - t0\n",
      "\n",
      "print \"Search completed in {} seconds\".format(round(tt,3))\n",
      "best_peptide_matches"
     ],
     "language": "python",
     "metadata": {},
     "outputs": [
      {
       "output_type": "stream",
       "stream": "stdout",
       "text": [
        "Search completed in 12.053 seconds\n"
       ]
      },
      {
       "metadata": {},
       "output_type": "pyout",
       "prompt_number": 9,
       "text": [
        "[(u'DHASMCLAILEEIR/3', 0.99999999999999978),\n",
        " (u'DHASMCLAILEEIR/3', 0.91578660861456651),\n",
        " (u'IINEPTAAAIAYGLDR/3', 0.71713119675092352),\n",
        " (u'LDWLMVSVIPVAESR/3', 0.62385180464628598),\n",
        " (u'IINEPTAAAIAYGLDR/3', 0.59247768198270157),\n",
        " (u'TSDKITSQIR/3', 0.3867927972346164),\n",
        " (u'PEEILEKIR/3', 0.38558755536087813),\n",
        " (u'GQCWVFAGTLNTALR/3', 0.38160317531053811),\n",
        " (u'PEEILEKIR/3', 0.37503587585684711),\n",
        " (u'NTLYLQMNSLR/3', 0.3715010040650239)]"
       ]
      }
     ],
     "prompt_number": 9
    },
    {
     "cell_type": "heading",
     "level": 2,
     "metadata": {},
     "source": [
      "Testing the algorithm"
     ]
    },
    {
     "cell_type": "code",
     "collapsed": false,
     "input": [],
     "language": "python",
     "metadata": {},
     "outputs": [],
     "prompt_number": 9
    },
    {
     "cell_type": "heading",
     "level": 2,
     "metadata": {},
     "source": [
      "References"
     ]
    },
    {
     "cell_type": "markdown",
     "metadata": {},
     "source": [
      "Lam, Henry, *et al.* (2007). \"Development and validation of a spectral library searching method for peptide identification from MS/MS\". Proteomics 7 (5), 655-667. [Abstract](http://www.ncbi.nlm.nih.gov/pubmed/?term=17295354)"
     ]
    }
   ],
   "metadata": {}
  }
 ]
}