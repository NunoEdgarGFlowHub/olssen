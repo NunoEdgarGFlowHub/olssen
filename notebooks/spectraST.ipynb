{
 "metadata": {
  "name": "",
  "signature": "sha256:739a4350449e9a964806ba5be862c45873374dd8f7534fd600b77c8b5afad111"
 },
 "nbformat": 3,
 "nbformat_minor": 0,
 "worksheets": [
  {
   "cells": [
    {
     "cell_type": "heading",
     "level": 1,
     "metadata": {},
     "source": [
      "The SpectraST algorithm for spectral search"
     ]
    },
    {
     "cell_type": "markdown",
     "metadata": {},
     "source": [
      "In this notebook we will study how to implement the [SpectraST algorithm](http://tools.proteomecenter.org/wiki/index.php?title=Software:SpectraST) for spectral search."
     ]
    },
    {
     "cell_type": "heading",
     "level": 2,
     "metadata": {},
     "source": [
      "Loading the library"
     ]
    },
    {
     "cell_type": "markdown",
     "metadata": {},
     "source": [
      "We will load our library RDD from a file we previously saved.  "
     ]
    },
    {
     "cell_type": "code",
     "collapsed": false,
     "input": [
      "human_spectrum_library = sc.pickleFile(\"../human/lib.file\").cache()\n",
      "\n",
      "human_spectrum_library.count()"
     ],
     "language": "python",
     "metadata": {},
     "outputs": [
      {
       "metadata": {},
       "output_type": "pyout",
       "prompt_number": 1,
       "text": [
        "80593"
       ]
      }
     ],
     "prompt_number": 1
    },
    {
     "cell_type": "heading",
     "level": 2,
     "metadata": {},
     "source": [
      "Noise reduction"
     ]
    },
    {
     "cell_type": "markdown",
     "metadata": {},
     "source": [
      "Both, the query spectra and the library are processed the same way in SpectraST. First we discard any spectra with less than six peaks or having negligible signal anywhere above the *m/z* value of 500 Th (or 500 x Charge Da).  "
     ]
    },
    {
     "cell_type": "markdown",
     "metadata": {},
     "source": [
      "So first filter by number of peaks.  "
     ]
    },
    {
     "cell_type": "code",
     "collapsed": false,
     "input": [
      "human_spectrum_library_denoise = human_spectrum_library.filter(lambda peptide: len(peptide[1]) >= 6)\n",
      "\n",
      "human_spectrum_library_denoise.count()"
     ],
     "language": "python",
     "metadata": {},
     "outputs": [
      {
       "metadata": {},
       "output_type": "pyout",
       "prompt_number": 2,
       "text": [
        "80593"
       ]
      }
     ],
     "prompt_number": 2
    },
    {
     "cell_type": "markdown",
     "metadata": {},
     "source": [
      "Now we need a function that gets the charge (comes after the peptide sequence in our keys) and filter out peak lists containing peaks beyond the *charge x 500* threshold.  "
     ]
    },
    {
     "cell_type": "code",
     "collapsed": false,
     "input": [
      "def num_peaks_out_of_500th(spectrum):\n",
      "    charge = int(spectrum[0].split(\"/\")[1])\n",
      "    return len([peak for peak in spectrum[1] if peak[0]>(charge*500.0)])\n",
      "\n",
      "human_spectrum_library_denoise = human_spectrum_library_denoise.filter(lambda peptide: num_peaks_out_of_500th(peptide)==0)\n",
      "\n",
      "human_spectrum_library_denoise.count()"
     ],
     "language": "python",
     "metadata": {},
     "outputs": [
      {
       "metadata": {},
       "output_type": "pyout",
       "prompt_number": 3,
       "text": [
        "27228"
       ]
      }
     ],
     "prompt_number": 3
    },
    {
     "cell_type": "markdown",
     "metadata": {},
     "source": [
      "The remaining spectra are noise-reduced by removing all peaks bellow the intensity threshold of 2.0 (arbitrary unit) and rescaled by taking the square root of all raw peak intensities to de-emphasize dominant peaks. Unassigned peaks present in the library spectra are penalized by multiplying their intensities by a factor of 0.2."
     ]
    },
    {
     "cell_type": "code",
     "collapsed": false,
     "input": [
      "def remove_low_intensity_peaks_and_scale(spectrum):\n",
      "    clean_peaks = [(peak[0], sqrt(peak[1])) for peak in spectrum[1] if peak[1]>=2.0]\n",
      "    return (spectrum[0], clean_peaks)\n",
      "\n",
      "human_spectrum_library_denoise = human_spectrum_library_denoise.map(remove_low_intensity_peaks_and_scale)\n",
      "\n",
      "human_spectrum_library_denoise.count()"
     ],
     "language": "python",
     "metadata": {},
     "outputs": [
      {
       "metadata": {},
       "output_type": "pyout",
       "prompt_number": 4,
       "text": [
        "27228"
       ]
      }
     ],
     "prompt_number": 4
    },
    {
     "cell_type": "heading",
     "level": 2,
     "metadata": {},
     "source": [
      "Binning "
     ]
    },
    {
     "cell_type": "markdown",
     "metadata": {},
     "source": [
      "Next, all scaled peak intensities are placed into 1 Th-wide bins.  "
     ]
    },
    {
     "cell_type": "code",
     "collapsed": false,
     "input": [
      "def to_bin(min_mz, bins, bin_size, value):\n",
      "    val = value - min_mz\n",
      "    bin_i = int(val / bin_size)\n",
      "    return bin_i + int(min_mz)\n",
      "\n",
      "def bin_spectrum(spectrum):\n",
      "    ## TODO: do we use charge to convert Th to Da?\n",
      "    peak_mzs = [peak[0] for peak in spectrum[1]]\n",
      "    min_mz = min(peak_mzs)\n",
      "    max_mz = max(peak_mzs)\n",
      "    \n",
      "    bins = xrange(int(min_mz), int(max_mz)+1, 1)\n",
      "    # associate peaks with bins\n",
      "    peaks_with_bins_list = [(to_bin(min_mz,bins,1, peak[0]), peak[1]) for peak in spectrum[1]]\n",
      "    peaks_with_bins_dict = {}\n",
      "    for peak in peaks_with_bins_list:\n",
      "        if peak[0] in peaks_with_bins_dict:\n",
      "            peaks_with_bins_dict.get(peak[0]).append(peak[1])\n",
      "        else:\n",
      "            peaks_with_bins_dict[peak[0]] = [peak[1]]\n",
      "        \n",
      "    # merge bins at the same mz value by averaging their peak intensities\n",
      "    peaks_with_bins = [(peak[0], sum(peak[1])/len(peak[1])) for peak in peaks_with_bins_dict.items()]\n",
      "    return (spectrum[0], peaks_with_bins)\n",
      "\n",
      "human_spectrum_library_with_bins = human_spectrum_library_denoise.map(bin_spectrum)\n",
      "\n",
      "a_peptide = human_spectrum_library_with_bins.take(10)[9]\n",
      "a_peptide"
     ],
     "language": "python",
     "metadata": {},
     "outputs": [
      {
       "metadata": {},
       "output_type": "pyout",
       "prompt_number": 5,
       "text": [
        "(u'DHASMCLAILEEIR/3',\n",
        " [(514, 71.320754342617548),\n",
        "  (771, 33.418408100925454),\n",
        "  (900, 9.1219515455849685),\n",
        "  (618, 70.810663038838996),\n",
        "  (1030, 11.717081547894082),\n",
        "  (524, 156.81336040019039),\n",
        "  (399, 18.09419796509367),\n",
        "  (658, 66.408056740127549),\n",
        "  (195, 7.6380625815713241),\n",
        "  (916, 9.4371605899232218),\n",
        "  (920, 10.771258050942796),\n",
        "  (1028, 25.243811122728676),\n",
        "  (668, 160.64071712987339),\n",
        "  (669, 72.391781301470957),\n",
        "  (709, 31.475228355009595),\n",
        "  (288, 24.966377390402478),\n",
        "  (545, 100.8157725755251),\n",
        "  (421, 32.244844549167858),\n",
        "  (550, 110.20022686002058),\n",
        "  (936, 8.4101129600023814),\n",
        "  (554, 75.973482215836341),\n",
        "  (175, 21.81788257370545),\n",
        "  (186, 10.674268124794317),\n",
        "  (699, 37.12007543095784),\n",
        "  (1029, 18.91983086605163),\n",
        "  (189, 8.2109682742049372),\n",
        "  (416, 49.144887831797924),\n",
        "  (450, 56.018657606194026),\n",
        "  (323, 39.840682725073876),\n",
        "  (197, 7.3878278269055508),\n",
        "  (842, 27.884045617521142),\n",
        "  (843, 18.621492958406961),\n",
        "  (844, 43.324588861292149),\n",
        "  (845, 24.442176662482414),\n",
        "  (718, 116.11484081548477),\n",
        "  (463, 24.898393522474496),\n",
        "  (464, 29.991665508937647),\n",
        "  (1109, 1.7521415467935231),\n",
        "  (1113, 2.0420577856662137),\n",
        "  (915, 17.134759992483115),\n",
        "  (826, 18.665476152512156),\n",
        "  (351, 57.471819181230032),\n",
        "  (352, 23.345877580420915),\n",
        "  (1123, 2.0223748416156684),\n",
        "  (1125, 1.8303005217723127),\n",
        "  (1127, 1.8841443681416772),\n",
        "  (234, 50.933387870825953),\n",
        "  (237, 23.102813681454474),\n",
        "  (1009, 15.673863595170145),\n",
        "  (659, 57.597743011336824),\n",
        "  (372, 25.733441277839233),\n",
        "  (252, 69.086829425006897),\n",
        "  (253, 23.802940994759449),\n",
        "  (1023, 11.936498649101418)])"
       ]
      }
     ],
     "prompt_number": 5
    },
    {
     "cell_type": "markdown",
     "metadata": {},
     "source": [
      "To \"spread out\" each peak to enable the matching of the corresponding, but slightly *m/z* shifted peaks, a fraction of the peak intensity is also assigned to the neighboring bins."
     ]
    },
    {
     "cell_type": "code",
     "collapsed": false,
     "input": [
      "# TODO"
     ],
     "language": "python",
     "metadata": {},
     "outputs": [],
     "prompt_number": 6
    },
    {
     "cell_type": "markdown",
     "metadata": {},
     "source": [
      "The bins are then normalised by the magnitude of the spectral vector as follows:"
     ]
    },
    {
     "cell_type": "markdown",
     "metadata": {},
     "source": [
      "\\begin{equation*}\n",
      "\\hat{I_j} = \\frac{I_j}{\\sqrt{\\sum_{j}{I_j^2}}}\n",
      "\\end{equation*}"
     ]
    },
    {
     "cell_type": "markdown",
     "metadata": {},
     "source": [
      "where $I_j$ and $\\hat{I_j}$ are the raw intensity and the normalized intensity of the $j^{th}$ bin, respectively.  "
     ]
    },
    {
     "cell_type": "code",
     "collapsed": false,
     "input": [
      "# TODO"
     ],
     "language": "python",
     "metadata": {},
     "outputs": [],
     "prompt_number": 7
    },
    {
     "cell_type": "heading",
     "level": 2,
     "metadata": {},
     "source": [
      "Spectral dot product"
     ]
    },
    {
     "cell_type": "markdown",
     "metadata": {},
     "source": [
      "A simple spectral dot product function is used to determine spectral similarity. It is calculated as follows:"
     ]
    },
    {
     "cell_type": "markdown",
     "metadata": {},
     "source": [
      "\\begin{equation*}\n",
      "D = \\sum_j{\\hat{I}_{library,j}\\hat{I}_{query,j}}\n",
      "\\end{equation*}"
     ]
    },
    {
     "cell_type": "markdown",
     "metadata": {},
     "source": [
      "In order to implement the previous, a perfect representation is Spark's own [SparseVector](https://spark.apache.org/docs/latest/api/python/pyspark.mllib.html#pyspark.mllib.linalg.SparseVector).  "
     ]
    },
    {
     "cell_type": "code",
     "collapsed": false,
     "input": [
      "from pyspark.mllib.linalg import Vectors\n",
      "\n",
      "def score_and_peptide(peptide, query_peaks_bc):\n",
      "    \n",
      "    # get max vector size based on bins\n",
      "    peptide_mz_bins = [peak[0] for peak in peptide[1]]\n",
      "    query_mz_bins = [peak[0] for peak in query_peaks_bc.value]\n",
      "    max_bin_peptide = max(peptide_mz_bins)+1\n",
      "    max_bin_query = max(query_mz_bins)+1\n",
      "    max_size = max(max_bin_peptide,max_bin_query)\n",
      "    \n",
      "    # Create SparseVector for peptide\n",
      "    peptide_sv = Vectors.sparse(max_size, peptide[1])\n",
      "\n",
      "    # Create a SparseVector the query \n",
      "    query_sv = Vectors.sparse(max_size, query_peaks_bc.value)\n",
      "    \n",
      "    # return peptide and dot product result\n",
      "    return (peptide[0], peptide_sv.dot(query_sv))\n",
      "\n",
      "\n",
      "# we need to broadcast our query peaks to make it available accross the cluster workers\n",
      "query_peaks_bc = sc.broadcast(a_peptide[1])\n",
      "\n",
      "# then we can perform the dot product\n",
      "human_spectrum_library_vectors = \\\n",
      "    human_spectrum_library_with_bins.map(lambda peptide: score_and_peptide(peptide, query_peaks_bc))"
     ],
     "language": "python",
     "metadata": {},
     "outputs": [],
     "prompt_number": 8
    },
    {
     "cell_type": "markdown",
     "metadata": {},
     "source": [
      "We can now sort and get the first.  "
     ]
    },
    {
     "cell_type": "code",
     "collapsed": false,
     "input": [
      "from time import time\n",
      "\n",
      "t0 = time()\n",
      "best_peptide_matches = human_spectrum_library_vectors.takeOrdered(10, lambda pep_score: -pep_score[1])\n",
      "tt = time() - t0\n",
      "\n",
      "print \"Search completed in {} seconds\".format(round(tt,3))\n",
      "best_peptide_matches"
     ],
     "language": "python",
     "metadata": {},
     "outputs": [
      {
       "output_type": "stream",
       "stream": "stdout",
       "text": [
        "Search completed in 11.135 seconds\n"
       ]
      },
      {
       "metadata": {},
       "output_type": "pyout",
       "prompt_number": 9,
       "text": [
        "[(u'NGTENAPR/2', 192274.20788816121),\n",
        " (u'DHASMCLAILEEIR/3', 149049.84625760539),\n",
        " (u'ELPTPHGR/3', 137045.77367947181),\n",
        " (u'DHASMCLAILEEIR/3', 119252.09316277551),\n",
        " (u'IWEKLK/3', 110777.36614805732),\n",
        " (u'IINEPTAAAIAYGLDR/3', 77079.713089412078),\n",
        " (u'PEEILEKIR/3', 62177.220954888289),\n",
        " (u'QIIANAKSQMLKEK/3', 58830.347600213521),\n",
        " (u'QIIANAKSQMLKEK/3', 54381.331781376386),\n",
        " (u'LDWLMVSVIPVAESR/3', 52820.657555088008)]"
       ]
      }
     ],
     "prompt_number": 9
    },
    {
     "cell_type": "heading",
     "level": 2,
     "metadata": {},
     "source": [
      "Testing the algorithm"
     ]
    },
    {
     "cell_type": "code",
     "collapsed": false,
     "input": [],
     "language": "python",
     "metadata": {},
     "outputs": [],
     "prompt_number": 9
    },
    {
     "cell_type": "heading",
     "level": 2,
     "metadata": {},
     "source": [
      "References"
     ]
    },
    {
     "cell_type": "markdown",
     "metadata": {},
     "source": [
      "Lam, Henry, *et al.* (2007). \"Development and validation of a spectral library searching method for peptide identification from MS/MS\". Proteomics 7 (5), 655-667. [Abstract](http://www.ncbi.nlm.nih.gov/pubmed/?term=17295354)"
     ]
    }
   ],
   "metadata": {}
  }
 ]
}