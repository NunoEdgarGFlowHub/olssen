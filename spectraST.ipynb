{
 "metadata": {
  "name": "",
  "signature": "sha256:6adddc739d3b643fe4a6c890e8743c38c08d22191934abcbf1ba9d827320193a"
 },
 "nbformat": 3,
 "nbformat_minor": 0,
 "worksheets": [
  {
   "cells": [
    {
     "cell_type": "heading",
     "level": 1,
     "metadata": {},
     "source": [
      "The SpectraST algorithm for spectral search"
     ]
    },
    {
     "cell_type": "markdown",
     "metadata": {},
     "source": [
      "In this notebook we will study how to implement the [SpectraST algorithm](http://tools.proteomecenter.org/wiki/index.php?title=Software:SpectraST) for spectral search."
     ]
    },
    {
     "cell_type": "heading",
     "level": 2,
     "metadata": {},
     "source": [
      "Loading the library"
     ]
    },
    {
     "cell_type": "markdown",
     "metadata": {},
     "source": [
      "We will load our library RDD from a file we previously saved.  "
     ]
    },
    {
     "cell_type": "code",
     "collapsed": false,
     "input": [
      "human_spectrum_library = sc.textFile(\"./human/lib.file\")\n",
      "\n",
      "human_spectrum_library.first()"
     ],
     "language": "python",
     "metadata": {},
     "outputs": [
      {
       "metadata": {},
       "output_type": "pyout",
       "prompt_number": 2,
       "text": [
        "u\"(u'SGAAGPQGWSWK/3', [(114.11, 2156.53), (115.107, 2141.23), (116.111, 1885.01), (117.114, 2264.33), (145.108, 844.88), (219.062, 282.87), (247.056, 140.64), (266.111, 311.38), (291.214, 290.98), (294.106, 170.06), (328.169, 17.92), (378.246, 972.04), (379.249, 112.92), (391.159, 67.39), (395.196, 61.78), (400.229, 334.24), (404.298, 16.79), (468.267, 322.27), (468.768, 93.06), (493.27, 223.7), (515.254, 178.68), (516.794, 1078.0), (517.295, 448.13), (565.318, 525.17), (565.822, 187.66), (609.373, 130.16), (613.846, 56.46), (655.337, 531.46), (656.34, 137.59), (680.409, 109.9), (725.391, 152.81), (752.39, 492.38), (753.396, 177.42), (760.382, 144.47), (777.461, 137.18), (849.446, 297.3), (850.45, 111.25), (855.432, 136.15), (857.436, 135.81), (888.478, 74.66), (926.46, 159.38), (935.527, 594.84), (936.53, 219.76), (985.526, 109.72), (998.44, 252.03), (1014.567, 13.89), (1032.579, 737.97), (1033.58, 306.8), (1082.583, 94.9), (1083.59, 20.22), (1103.485, 19.5), (1111.606, 6.96), (1129.633, 445.52), (1130.634, 205.88), (1131.648, 2.62), (1231.579, 116.21), (1232.587, 35.45), (1255.566, 88.04), (1256.38, 12.0), (1272.456, 7.15), (1307.659, 1.16), (1325.828, 3.84), (1361.176, 7.2), (1369.045, 6.02), (1424.965, 1.32), (1427.332, 1.2), (1430.98, 4.48), (1470.631, 2.15), (1526.107, 1.54)])\""
       ]
      }
     ],
     "prompt_number": 2
    },
    {
     "cell_type": "heading",
     "level": 2,
     "metadata": {},
     "source": [
      "Noise reduction"
     ]
    },
    {
     "cell_type": "markdown",
     "metadata": {},
     "source": [
      "Both, the query spectra and the library are processed the same way in SpectraST. First we discard any spectra with less than six peaks or having negligible signal anywhere above the *m/z* value of 500 Th (or 500 x Charge Da).  "
     ]
    },
    {
     "cell_type": "code",
     "collapsed": false,
     "input": [],
     "language": "python",
     "metadata": {},
     "outputs": [],
     "prompt_number": 2
    },
    {
     "cell_type": "markdown",
     "metadata": {},
     "source": [
      "The remaining spectra are noise-reduced by removing all peaks bellow the intensity threshold of 2.0 (arbitrary unit) and rescaled by taking the square root of all raw peak intensities to de-emphasize dominant peaks. Unassigned peaks present in the library spectra are penalized by multiplying their intensities by a factor of 0.2."
     ]
    },
    {
     "cell_type": "code",
     "collapsed": false,
     "input": [],
     "language": "python",
     "metadata": {},
     "outputs": [],
     "prompt_number": 2
    },
    {
     "cell_type": "heading",
     "level": 2,
     "metadata": {},
     "source": [
      "Binning "
     ]
    },
    {
     "cell_type": "markdown",
     "metadata": {},
     "source": [
      "Next, all scaled peak intensities are placed into 1 Th-wide bins. "
     ]
    },
    {
     "cell_type": "code",
     "collapsed": false,
     "input": [],
     "language": "python",
     "metadata": {},
     "outputs": [],
     "prompt_number": 2
    },
    {
     "cell_type": "markdown",
     "metadata": {},
     "source": [
      "To \"spread out\" each peak to enable the matching of the corresponding, but slightly *m/z* shifted peaks, a fraction of the peak intensity is also assigned to the neighboring bins."
     ]
    },
    {
     "cell_type": "code",
     "collapsed": false,
     "input": [],
     "language": "python",
     "metadata": {},
     "outputs": [],
     "prompt_number": 2
    },
    {
     "cell_type": "markdown",
     "metadata": {},
     "source": [
      "The bins are then normalised by the magnitude of the spectral vector as follows:"
     ]
    },
    {
     "cell_type": "markdown",
     "metadata": {},
     "source": [
      "\\begin{equation*}\n",
      "\\hat{I_j} = \\frac{I_j}{\\sqrt{\\sum_{j}{I_j^2}}}\n",
      "\\end{equation*}"
     ]
    },
    {
     "cell_type": "markdown",
     "metadata": {},
     "source": [
      "where $I_j$ and $\\hat{I_j}$ are the raw intensity and the normalized intensity of the $j^{th}$ bin, respectively.  "
     ]
    },
    {
     "cell_type": "code",
     "collapsed": false,
     "input": [],
     "language": "python",
     "metadata": {},
     "outputs": [],
     "prompt_number": 2
    },
    {
     "cell_type": "heading",
     "level": 2,
     "metadata": {},
     "source": [
      "Spectral dot product"
     ]
    },
    {
     "cell_type": "markdown",
     "metadata": {},
     "source": [
      "A simple spectral dot product function is used to determine spectral similarity. It is calculated as follows:"
     ]
    },
    {
     "cell_type": "markdown",
     "metadata": {},
     "source": [
      "\\begin{equation*}\n",
      "D = \\sum_j{\\hat{I}_{library,j}\\hat{I}_{query,j}}\n",
      "\\end{equation*}"
     ]
    },
    {
     "cell_type": "markdown",
     "metadata": {},
     "source": [
      "And in Python and Spark."
     ]
    },
    {
     "cell_type": "code",
     "collapsed": false,
     "input": [],
     "language": "python",
     "metadata": {},
     "outputs": [],
     "prompt_number": 2
    },
    {
     "cell_type": "heading",
     "level": 2,
     "metadata": {},
     "source": [
      "Testing the algorithm"
     ]
    },
    {
     "cell_type": "code",
     "collapsed": false,
     "input": [],
     "language": "python",
     "metadata": {},
     "outputs": []
    },
    {
     "cell_type": "heading",
     "level": 2,
     "metadata": {},
     "source": [
      "References"
     ]
    },
    {
     "cell_type": "markdown",
     "metadata": {},
     "source": [
      "Lam, Henry, *et al.* (2007). \"Development and validation of a spectral library searching method for peptide identification from MS/MS\". Proteomics 7 (5), 655-667. [Abstract](http://www.ncbi.nlm.nih.gov/pubmed/?term=17295354)"
     ]
    }
   ],
   "metadata": {}
  }
 ]
}