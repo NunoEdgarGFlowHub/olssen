{
 "metadata": {
  "name": "",
  "signature": "sha256:588630fef737b5065470646f5f4f3dbe8be2fc2b6520181f26e1113ff0a4b92a"
 },
 "nbformat": 3,
 "nbformat_minor": 0,
 "worksheets": [
  {
   "cells": [
    {
     "cell_type": "heading",
     "level": 2,
     "metadata": {},
     "source": [
      "Loading the library"
     ]
    },
    {
     "cell_type": "code",
     "collapsed": false,
     "input": [
      "def parse_file_entry(file_entry):\n",
      "    # each file entry is a tuple with the first element being the file path and the second its contents\n",
      "    file_split = file_entry[1].split(\"\\n\")\n",
      "    # name is the first element in the split, we need to remove the 'name: ' prefix\n",
      "    name = file_split[0].split(\" \")[1]\n",
      "    # number of peaks is the third element, removed 'Num peaks: ' prefix\n",
      "    num_peaks = int(file_split[2].split(\" \")[2])\n",
      "    # read the peaks themselves, that are in the next num_peaks lines, space separated (there is an extra space after each peak)\n",
      "    peak_list = [tuple(map(float, peak.split(\" \")[0:2])) for peak in file_split[3:3+num_peaks]]\n",
      "    \n",
      "    return (name, peak_list)\n"
     ],
     "language": "python",
     "metadata": {},
     "outputs": [],
     "prompt_number": 1
    },
    {
     "cell_type": "code",
     "collapsed": false,
     "input": [
      "from time import time\n",
      "\n",
      "raw_file = sc.wholeTextFiles (\"./human\")\n",
      "human_spectrum_library = raw_file.map(parse_file_entry)\n",
      "\n",
      "t0 = time()\n",
      "raw_file.take(2)\n",
      "tt = time() - t0\n",
      "\n",
      "print \"Library read and parsed in {} seconds\".format(round(tt,3))"
     ],
     "language": "python",
     "metadata": {},
     "outputs": [
      {
       "output_type": "stream",
       "stream": "stdout",
       "text": [
        "Raw data read in 441.873 seconds\n"
       ]
      }
     ],
     "prompt_number": 2
    },
    {
     "cell_type": "heading",
     "level": 2,
     "metadata": {},
     "source": [
      "The dot product"
     ]
    },
    {
     "cell_type": "code",
     "collapsed": false,
     "input": [],
     "language": "python",
     "metadata": {},
     "outputs": []
    }
   ],
   "metadata": {}
  }
 ]
}